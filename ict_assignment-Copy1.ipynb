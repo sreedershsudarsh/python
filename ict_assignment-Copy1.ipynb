{
 "cells": [
  {
   "cell_type": "markdown",
   "id": "8d1b6998",
   "metadata": {},
   "source": [
    "# section 1\n"
   ]
  },
  {
   "cell_type": "code",
   "execution_count": 12,
   "id": "11c921f3",
   "metadata": {},
   "outputs": [
    {
     "name": "stdout",
     "output_type": "stream",
     "text": [
      "['e', 'd', 'c', 'b', 'a']\n"
     ]
    }
   ],
   "source": [
    "# 1.write the output of the following program\n",
    "\n",
    "k=[\"a\",\"b\",\"c\",\"d\",\"e\"]\n",
    "print(k[-1:-7:-1])"
   ]
  },
  {
   "cell_type": "code",
   "execution_count": 10,
   "id": "a533b6c6",
   "metadata": {},
   "outputs": [
    {
     "name": "stdout",
     "output_type": "stream",
     "text": [
      "[[500, 400, 300, 200, 100]]\n",
      "[500, 400, 300, 200, 100]\n"
     ]
    }
   ],
   "source": [
    "#2. reverese the list using python\n",
    "\n",
    "list1=[100,200,300,400,500]\n",
    "reverse_list1=[list1[::-1]]\n",
    "print(reverse_list1)\n",
    "\n",
    "#or\n",
    "\n",
    "list3=[100,200,300,400,500]\n",
    "list3.reverse()\n",
    "print(list3)"
   ]
  },
  {
   "cell_type": "code",
   "execution_count": 11,
   "id": "6394a674",
   "metadata": {},
   "outputs": [
    {
     "name": "stdout",
     "output_type": "stream",
     "text": [
      "enter first number4\n",
      "enter second number5\n",
      "5 is larger than 4\n"
     ]
    }
   ],
   "source": [
    "# 3.write a python program to find the maximum of two numbers\n",
    "\n",
    "a=int(input(\"enter first number\"))\n",
    "b=int(input(\"enter second number\"))\n",
    "if a>b:\n",
    "    print(f\"{a} is larger than {b}\")\n",
    "else:\n",
    "    print(f\"{b} is larger than {a}\")"
   ]
  },
  {
   "cell_type": "code",
   "execution_count": 13,
   "id": "6669a2ae",
   "metadata": {},
   "outputs": [
    {
     "name": "stdout",
     "output_type": "stream",
     "text": [
      "25\n"
     ]
    }
   ],
   "source": [
    "# 4.write a python program to find the square of 5.\n",
    "\n",
    "def square_of_5():\n",
    "    a=5\n",
    "    print(5*5)\n",
    "    \n",
    "square_of_5()"
   ]
  },
  {
   "cell_type": "code",
   "execution_count": 19,
   "id": "0f2609a5",
   "metadata": {},
   "outputs": [
    {
     "name": "stdout",
     "output_type": "stream",
     "text": [
      "sum : 600\n"
     ]
    }
   ],
   "source": [
    "# 5.write a python program to find sum of all items in a dictionary.\n",
    "\n",
    "\n",
    "\n",
    "def sum1(dict1):\n",
    "    sum=0\n",
    "    for i in dict1:\n",
    "        sum+=dict1[i]\n",
    "    return sum\n",
    "\n",
    "dict1={\"a\":100,\"b\":200,\"c\":300}\n",
    "dict_sum=sum1(dict1)\n",
    "print(f\"sum : {dict_sum}\")\n",
    "        \n",
    "\n"
   ]
  },
  {
   "cell_type": "markdown",
   "id": "3aabd69d",
   "metadata": {},
   "source": [
    "# Section 2\n"
   ]
  },
  {
   "cell_type": "code",
   "execution_count": 25,
   "id": "43d31778",
   "metadata": {},
   "outputs": [
    {
     "name": "stdout",
     "output_type": "stream",
     "text": [
      "date: 2022-12-11\n",
      "current day: 11\n",
      "current month: 12\n",
      "current year: 2022\n"
     ]
    }
   ],
   "source": [
    "# 6.write a python program to find the current year month and day\n",
    " \n",
    "from datetime import date\n",
    "\n",
    "todays_date=date.today()\n",
    "print(f\"date: {todays_date}\")\n",
    "\n",
    "print(f\"current day: {todays_date.day}\")\n",
    "print(f\"current month: {todays_date.month}\")\n",
    "print(f\"current year: {todays_date.year}\")\n"
   ]
  },
  {
   "cell_type": "code",
   "execution_count": 37,
   "id": "9998b40c",
   "metadata": {},
   "outputs": [
    {
     "name": "stdout",
     "output_type": "stream",
     "text": [
      "enter the no of rows5\n",
      "\n",
      "*\n",
      "**\n",
      "***\n",
      "****\n",
      "*****\n",
      "******\n",
      "*****\n",
      "****\n",
      "***\n",
      "**\n",
      "*\n"
     ]
    }
   ],
   "source": [
    "# 7.write a python program to print the following pattern using nested for loop.\n",
    "\"\"\"\n",
    "*\n",
    "**\n",
    "***\n",
    "****\n",
    "*****\n",
    "****\n",
    "***\n",
    "**\n",
    "*\"\"\"\n",
    "\n",
    "n=int(input(\"enter the no of rows\"))\n",
    "for i in range(0,n+1):\n",
    "    for j in range(0,i):\n",
    "        print(\"*\",end=\"\")\n",
    "    print(\"\\r\")\n",
    "    \n",
    "for i in range(n+1,0,-1):\n",
    "    for j in range(i,0,-1):\n",
    "        print(\"*\",end=\"\")\n",
    "    print(\"\\r\")\n",
    "    "
   ]
  },
  {
   "cell_type": "code",
   "execution_count": 46,
   "id": "91c4a75c",
   "metadata": {},
   "outputs": [
    {
     "name": "stdout",
     "output_type": "stream",
     "text": [
      "enter the number5\n",
      "Factorial of 5 is:120\n"
     ]
    }
   ],
   "source": [
    "#8. write a python program to find factorial of a number (a non-negative integer). The function accepts the number as an \n",
    "#argument.\n",
    "\n",
    "def fact1(n):\n",
    "    fact=1\n",
    "    for i in range(1,n+1):\n",
    "        fact=fact*i\n",
    "    print(f\"Factorial of {n} is:{fact}\")\n",
    "    \n",
    "n=int(input(\"enter the number\"))\n",
    "fact1(n)\n",
    "        "
   ]
  },
  {
   "cell_type": "code",
   "execution_count": 51,
   "id": "7871eb54",
   "metadata": {},
   "outputs": [
    {
     "name": "stdout",
     "output_type": "stream",
     "text": [
      "[20, 30, 60]\n"
     ]
    }
   ],
   "source": [
    "# 9. Display all the duplicate items from the list given:\n",
    "# 10,20,60,30,20,40,30,60,70,80\n",
    "\n",
    "list2=[10,20,60,30,20,40,30,60,70,80]\n",
    "list3=[]\n",
    "duplicate=[]\n",
    "for i in list2:\n",
    "    if i not in list3:\n",
    "        list3.append(i)\n",
    "    else:\n",
    "        duplicate.append(i)\n",
    "        \n",
    "print(duplicate)        "
   ]
  },
  {
   "cell_type": "code",
   "execution_count": 52,
   "id": "e0dd9618",
   "metadata": {},
   "outputs": [
    {
     "name": "stdout",
     "output_type": "stream",
     "text": [
      "enter the stringsakthi\n",
      "s\n",
      "k\n",
      "h\n"
     ]
    }
   ],
   "source": [
    "# 10. write a python program to accept a string from the user and display characters that are present at an even index.\n",
    "\n",
    "a=input(\"enter the string\")\n",
    "for i in a:\n",
    "    if a.index(i)%2==0:\n",
    "        print(i)\n",
    "\n"
   ]
  },
  {
   "cell_type": "markdown",
   "id": "f8f4775a",
   "metadata": {},
   "source": [
    "# Section 3"
   ]
  },
  {
   "cell_type": "code",
   "execution_count": 12,
   "id": "1c9fc268",
   "metadata": {},
   "outputs": [
    {
     "name": "stdout",
     "output_type": "stream",
     "text": [
      "enter the number5\n",
      "5\n",
      "4\n",
      "3\n",
      "2\n",
      "1\n"
     ]
    },
    {
     "data": {
      "text/plain": [
       "1"
      ]
     },
     "execution_count": 12,
     "metadata": {},
     "output_type": "execute_result"
    }
   ],
   "source": [
    "# 11.write a python program to print the numbers from a given number n till 0 using recursion.\n",
    "\n",
    "\n",
    "def recurs_num(n):\n",
    "    for i in range(n,0,-1):\n",
    "        print(i)\n",
    "    return i\n",
    "n=int(input(\"enter the number\"))\n",
    "recurs_num(n)\n",
    "    \n",
    "    \n"
   ]
  },
  {
   "cell_type": "code",
   "execution_count": 13,
   "id": "cee3dbe0",
   "metadata": {},
   "outputs": [
    {
     "name": "stdout",
     "output_type": "stream",
     "text": [
      "[5, [10, 15, [20, 25, [30, 3500], 40], 45], 50]\n"
     ]
    }
   ],
   "source": [
    "# 12. modify the element of a nested list inside the following list\n",
    "\n",
    "list4=[5,[10,15,[20,25,[30,35],40],45],50]\n",
    "list4[1][2][2][1]=3500\n",
    "print(list4)\n"
   ]
  },
  {
   "cell_type": "code",
   "execution_count": 1,
   "id": "aef3d126",
   "metadata": {},
   "outputs": [
    {
     "name": "stdout",
     "output_type": "stream",
     "text": [
      "enter the stringyufffy990900090\n",
      "yufffy"
     ]
    }
   ],
   "source": [
    "# 13. write a while loop to display only alphabets of a string.\n",
    "\n",
    "alphabets=\"abcdefghijklmnopqrstuvwxyz\"\n",
    "word=input(\"enter the string\").lower()\n",
    "i=0\n",
    "while True:\n",
    "    for i in word:\n",
    "        if i in alphabets:\n",
    "            print(i,end=\"\")\n",
    "    break    \n",
    "   # else:continue\n",
    "    #break    "
   ]
  },
  {
   "cell_type": "code",
   "execution_count": null,
   "id": "cbb045b1",
   "metadata": {},
   "outputs": [
    {
     "name": "stdout",
     "output_type": "stream",
     "text": [
      "1.convert the temperature in degree centigrade to Fahrenheit :\n",
      "2.convert the temperature in Fahrenheit to degree centigrade : \n",
      "Enter your choice 1\n",
      "enter the temperature in degree centigrate : 45\n",
      "45.0 degree Celsius is equal to 113.0 degree Fahrenheit \n",
      "1.convert the temperature in degree centigrade to Fahrenheit :\n",
      "2.convert the temperature in Fahrenheit to degree centigrade : \n",
      "Enter your choice 2\n",
      "enter the temperature in degree fahrenheit : 67\n",
      "67.0 degree Celsius is equal to 19.444444444444446 degree Fahrenheit \n",
      "1.convert the temperature in degree centigrade to Fahrenheit :\n",
      "2.convert the temperature in Fahrenheit to degree centigrade : \n"
     ]
    }
   ],
   "source": [
    "# 15.python program to convert the temperature in degree centigrade tofarenheit and vice versa\n",
    "\n",
    "while True:\n",
    "    \n",
    "    print(\"1.convert the temperature in degree centigrade to Fahrenheit :\")\n",
    "    \n",
    "    print(\"2.convert the temperature in Fahrenheit to degree centigrade : \")\n",
    "    \n",
    "    choice=int(input(\"Enter your choice \"))\n",
    "    if choice==1:\n",
    "        celsius=float(input(\"enter the temperature in degree centigrate : \"))\n",
    "        fahrenheit = (celsius * 1.8) + 32\n",
    "        print(f\"{celsius} degree Celsius is equal to {fahrenheit} degree Fahrenheit \" )\n",
    "        \n",
    "    elif choice==2:\n",
    "        fahrenheit =float(input(\"enter the temperature in degree fahrenheit : \"))\n",
    "        celsius=5/9 * ( fahrenheit - 32) \n",
    "        print((f\"{fahrenheit} degree Celsius is equal to {celsius} degree Fahrenheit \" ))\n",
    "    else:\n",
    "        print(\"please enter given choice: \")\n",
    "        break"
   ]
  },
  {
   "cell_type": "code",
   "execution_count": null,
   "id": "72c05cda",
   "metadata": {},
   "outputs": [],
   "source": []
  }
 ],
 "metadata": {
  "kernelspec": {
   "display_name": "Python 3 (ipykernel)",
   "language": "python",
   "name": "python3"
  },
  "language_info": {
   "codemirror_mode": {
    "name": "ipython",
    "version": 3
   },
   "file_extension": ".py",
   "mimetype": "text/x-python",
   "name": "python",
   "nbconvert_exporter": "python",
   "pygments_lexer": "ipython3",
   "version": "3.9.13"
  }
 },
 "nbformat": 4,
 "nbformat_minor": 5
}
